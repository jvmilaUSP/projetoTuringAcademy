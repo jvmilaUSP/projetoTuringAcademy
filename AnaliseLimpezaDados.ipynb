{
 "cells": [
  {
   "cell_type": "markdown",
   "metadata": {},
   "source": [
    "# Análise geral do dataset"
   ]
  },
  {
   "cell_type": "code",
   "execution_count": 1,
   "metadata": {},
   "outputs": [],
   "source": [
    "import numpy as np\n",
    "import pandas as pd\n",
    "import matplotlib.pyplot as plt\n",
    "import seaborn as sns\n",
    "df = pd.read_csv(\"bank_train.csv\")"
   ]
  },
  {
   "cell_type": "markdown",
   "metadata": {},
   "source": [
    "Avaliando inicialmente o dataset para ter informações gerais\n"
   ]
  },
  {
   "cell_type": "code",
   "execution_count": 4,
   "metadata": {},
   "outputs": [
    {
     "name": "stdout",
     "output_type": "stream",
     "text": [
      "<class 'pandas.core.frame.DataFrame'>\n",
      "RangeIndex: 40000 entries, 0 to 39999\n",
      "Data columns (total 19 columns):\n",
      " #   Column     Non-Null Count  Dtype  \n",
      "---  ------     --------------  -----  \n",
      " 0   id         40000 non-null  int64  \n",
      " 1   age        38801 non-null  float64\n",
      " 2   job        38651 non-null  object \n",
      " 3   marital    39903 non-null  object \n",
      " 4   education  40000 non-null  object \n",
      " 5   location   18498 non-null  object \n",
      " 6   default    40000 non-null  object \n",
      " 7   balance    38208 non-null  float64\n",
      " 8   housing    40000 non-null  object \n",
      " 9   loan       40000 non-null  object \n",
      " 10  contact    39266 non-null  object \n",
      " 11  day        40000 non-null  int64  \n",
      " 12  month      40000 non-null  object \n",
      " 13  duration   40000 non-null  int64  \n",
      " 14  campaign   38603 non-null  float64\n",
      " 15  pdays      40000 non-null  int64  \n",
      " 16  previous   39703 non-null  float64\n",
      " 17  poutcome   40000 non-null  object \n",
      " 18  y          40000 non-null  object \n",
      "dtypes: float64(4), int64(4), object(11)\n",
      "memory usage: 5.8+ MB\n"
     ]
    }
   ],
   "source": [
    "df.info()"
   ]
  },
  {
   "cell_type": "markdown",
   "metadata": {},
   "source": [
    "Verificando quantos dados vazios (NaN) temos de cada tipo\n"
   ]
  },
  {
   "cell_type": "code",
   "execution_count": 3,
   "metadata": {},
   "outputs": [
    {
     "data": {
      "text/plain": [
       "id               0\n",
       "age           1199\n",
       "job           1349\n",
       "marital         97\n",
       "education        0\n",
       "location     21502\n",
       "default          0\n",
       "balance       1792\n",
       "housing          0\n",
       "loan             0\n",
       "contact        734\n",
       "day              0\n",
       "month            0\n",
       "duration         0\n",
       "campaign      1397\n",
       "pdays            0\n",
       "previous       297\n",
       "poutcome         0\n",
       "y                0\n",
       "dtype: int64"
      ]
     },
     "execution_count": 3,
     "metadata": {},
     "output_type": "execute_result"
    }
   ],
   "source": [
    "df.isna().sum()"
   ]
  },
  {
   "cell_type": "code",
   "execution_count": 2,
   "metadata": {},
   "outputs": [
    {
     "data": {
      "text/html": [
       "<div>\n",
       "<style scoped>\n",
       "    .dataframe tbody tr th:only-of-type {\n",
       "        vertical-align: middle;\n",
       "    }\n",
       "\n",
       "    .dataframe tbody tr th {\n",
       "        vertical-align: top;\n",
       "    }\n",
       "\n",
       "    .dataframe thead th {\n",
       "        text-align: right;\n",
       "    }\n",
       "</style>\n",
       "<table border=\"1\" class=\"dataframe\">\n",
       "  <thead>\n",
       "    <tr style=\"text-align: right;\">\n",
       "      <th></th>\n",
       "      <th>id</th>\n",
       "      <th>age</th>\n",
       "      <th>job</th>\n",
       "      <th>marital</th>\n",
       "      <th>education</th>\n",
       "      <th>location</th>\n",
       "      <th>default</th>\n",
       "      <th>balance</th>\n",
       "      <th>housing</th>\n",
       "      <th>loan</th>\n",
       "      <th>contact</th>\n",
       "      <th>day</th>\n",
       "      <th>month</th>\n",
       "      <th>duration</th>\n",
       "      <th>campaign</th>\n",
       "      <th>pdays</th>\n",
       "      <th>previous</th>\n",
       "      <th>poutcome</th>\n",
       "      <th>y</th>\n",
       "    </tr>\n",
       "  </thead>\n",
       "  <tbody>\n",
       "    <tr>\n",
       "      <th>0</th>\n",
       "      <td>0</td>\n",
       "      <td>41.0</td>\n",
       "      <td>management</td>\n",
       "      <td>single</td>\n",
       "      <td>tertiary</td>\n",
       "      <td>NaN</td>\n",
       "      <td>no</td>\n",
       "      <td>4522.0</td>\n",
       "      <td>no</td>\n",
       "      <td>no</td>\n",
       "      <td>cellular</td>\n",
       "      <td>28</td>\n",
       "      <td>aug</td>\n",
       "      <td>55</td>\n",
       "      <td>1.0</td>\n",
       "      <td>-1</td>\n",
       "      <td>0.0</td>\n",
       "      <td>unknown</td>\n",
       "      <td>no</td>\n",
       "    </tr>\n",
       "    <tr>\n",
       "      <th>1</th>\n",
       "      <td>1</td>\n",
       "      <td>42.0</td>\n",
       "      <td>blue-collar</td>\n",
       "      <td>married</td>\n",
       "      <td>primary</td>\n",
       "      <td>NaN</td>\n",
       "      <td>yes</td>\n",
       "      <td>398.0</td>\n",
       "      <td>yes</td>\n",
       "      <td>n</td>\n",
       "      <td>unknown</td>\n",
       "      <td>16</td>\n",
       "      <td>may</td>\n",
       "      <td>251</td>\n",
       "      <td>4.0</td>\n",
       "      <td>-1</td>\n",
       "      <td>0.0</td>\n",
       "      <td>unknown</td>\n",
       "      <td>no</td>\n",
       "    </tr>\n",
       "    <tr>\n",
       "      <th>2</th>\n",
       "      <td>2</td>\n",
       "      <td>26.0</td>\n",
       "      <td>student</td>\n",
       "      <td>single</td>\n",
       "      <td>secondary</td>\n",
       "      <td>Lisboa</td>\n",
       "      <td>no</td>\n",
       "      <td>706.0</td>\n",
       "      <td>no</td>\n",
       "      <td>no</td>\n",
       "      <td>unknown</td>\n",
       "      <td>8</td>\n",
       "      <td>oct</td>\n",
       "      <td>118</td>\n",
       "      <td>1.0</td>\n",
       "      <td>105</td>\n",
       "      <td>2.0</td>\n",
       "      <td>other</td>\n",
       "      <td>no</td>\n",
       "    </tr>\n",
       "    <tr>\n",
       "      <th>3</th>\n",
       "      <td>3</td>\n",
       "      <td>54.0</td>\n",
       "      <td>management</td>\n",
       "      <td>married</td>\n",
       "      <td>tertiary</td>\n",
       "      <td>NaN</td>\n",
       "      <td>no</td>\n",
       "      <td>0.0</td>\n",
       "      <td>no</td>\n",
       "      <td>y</td>\n",
       "      <td>cellular</td>\n",
       "      <td>19</td>\n",
       "      <td>nov</td>\n",
       "      <td>307</td>\n",
       "      <td>3.0</td>\n",
       "      <td>-1</td>\n",
       "      <td>0.0</td>\n",
       "      <td>unknown</td>\n",
       "      <td>no</td>\n",
       "    </tr>\n",
       "    <tr>\n",
       "      <th>4</th>\n",
       "      <td>4</td>\n",
       "      <td>43.0</td>\n",
       "      <td>self-employed</td>\n",
       "      <td>married</td>\n",
       "      <td>secondary</td>\n",
       "      <td>Porto</td>\n",
       "      <td>no</td>\n",
       "      <td>918.0</td>\n",
       "      <td>yes</td>\n",
       "      <td>no</td>\n",
       "      <td>unknown</td>\n",
       "      <td>6</td>\n",
       "      <td>may</td>\n",
       "      <td>193</td>\n",
       "      <td>1.0</td>\n",
       "      <td>-1</td>\n",
       "      <td>0.0</td>\n",
       "      <td>unknown</td>\n",
       "      <td>no</td>\n",
       "    </tr>\n",
       "  </tbody>\n",
       "</table>\n",
       "</div>"
      ],
      "text/plain": [
       "   id   age            job  marital  education location default  balance  \\\n",
       "0   0  41.0     management   single   tertiary      NaN      no   4522.0   \n",
       "1   1  42.0    blue-collar  married    primary      NaN     yes    398.0   \n",
       "2   2  26.0        student   single  secondary   Lisboa      no    706.0   \n",
       "3   3  54.0     management  married   tertiary      NaN      no      0.0   \n",
       "4   4  43.0  self-employed  married  secondary    Porto      no    918.0   \n",
       "\n",
       "  housing loan   contact  day month  duration  campaign  pdays  previous  \\\n",
       "0      no   no  cellular   28   aug        55       1.0     -1       0.0   \n",
       "1     yes    n   unknown   16   may       251       4.0     -1       0.0   \n",
       "2      no   no   unknown    8   oct       118       1.0    105       2.0   \n",
       "3      no    y  cellular   19   nov       307       3.0     -1       0.0   \n",
       "4     yes   no   unknown    6   may       193       1.0     -1       0.0   \n",
       "\n",
       "  poutcome   y  \n",
       "0  unknown  no  \n",
       "1  unknown  no  \n",
       "2    other  no  \n",
       "3  unknown  no  \n",
       "4  unknown  no  "
      ]
     },
     "execution_count": 2,
     "metadata": {},
     "output_type": "execute_result"
    }
   ],
   "source": [
    "df.head()"
   ]
  },
  {
   "cell_type": "code",
   "execution_count": 113,
   "metadata": {},
   "outputs": [
    {
     "data": {
      "text/html": [
       "<div>\n",
       "<style scoped>\n",
       "    .dataframe tbody tr th:only-of-type {\n",
       "        vertical-align: middle;\n",
       "    }\n",
       "\n",
       "    .dataframe tbody tr th {\n",
       "        vertical-align: top;\n",
       "    }\n",
       "\n",
       "    .dataframe thead th {\n",
       "        text-align: right;\n",
       "    }\n",
       "</style>\n",
       "<table border=\"1\" class=\"dataframe\">\n",
       "  <thead>\n",
       "    <tr style=\"text-align: right;\">\n",
       "      <th></th>\n",
       "      <th>id</th>\n",
       "      <th>age</th>\n",
       "      <th>balance</th>\n",
       "      <th>day</th>\n",
       "      <th>duration</th>\n",
       "      <th>campaign</th>\n",
       "      <th>pdays</th>\n",
       "      <th>previous</th>\n",
       "    </tr>\n",
       "  </thead>\n",
       "  <tbody>\n",
       "    <tr>\n",
       "      <th>count</th>\n",
       "      <td>40000.00</td>\n",
       "      <td>38801.00</td>\n",
       "      <td>38208.00</td>\n",
       "      <td>40000.00</td>\n",
       "      <td>40000.00</td>\n",
       "      <td>38603.00</td>\n",
       "      <td>40000.00</td>\n",
       "      <td>39703.00</td>\n",
       "    </tr>\n",
       "    <tr>\n",
       "      <th>mean</th>\n",
       "      <td>19999.50</td>\n",
       "      <td>40.96</td>\n",
       "      <td>1364.65</td>\n",
       "      <td>15.82</td>\n",
       "      <td>380.42</td>\n",
       "      <td>2.75</td>\n",
       "      <td>40.36</td>\n",
       "      <td>0.58</td>\n",
       "    </tr>\n",
       "    <tr>\n",
       "      <th>std</th>\n",
       "      <td>11547.15</td>\n",
       "      <td>11.03</td>\n",
       "      <td>3059.02</td>\n",
       "      <td>8.33</td>\n",
       "      <td>3044.41</td>\n",
       "      <td>3.04</td>\n",
       "      <td>100.29</td>\n",
       "      <td>2.34</td>\n",
       "    </tr>\n",
       "    <tr>\n",
       "      <th>min</th>\n",
       "      <td>0.00</td>\n",
       "      <td>8.00</td>\n",
       "      <td>-8019.00</td>\n",
       "      <td>1.00</td>\n",
       "      <td>-20.00</td>\n",
       "      <td>1.00</td>\n",
       "      <td>-1.00</td>\n",
       "      <td>0.00</td>\n",
       "    </tr>\n",
       "    <tr>\n",
       "      <th>25%</th>\n",
       "      <td>9999.75</td>\n",
       "      <td>33.00</td>\n",
       "      <td>73.00</td>\n",
       "      <td>8.00</td>\n",
       "      <td>102.00</td>\n",
       "      <td>1.00</td>\n",
       "      <td>-1.00</td>\n",
       "      <td>0.00</td>\n",
       "    </tr>\n",
       "    <tr>\n",
       "      <th>50%</th>\n",
       "      <td>19999.50</td>\n",
       "      <td>39.00</td>\n",
       "      <td>450.50</td>\n",
       "      <td>16.00</td>\n",
       "      <td>180.00</td>\n",
       "      <td>2.00</td>\n",
       "      <td>-1.00</td>\n",
       "      <td>0.00</td>\n",
       "    </tr>\n",
       "    <tr>\n",
       "      <th>75%</th>\n",
       "      <td>29999.25</td>\n",
       "      <td>48.00</td>\n",
       "      <td>1423.00</td>\n",
       "      <td>21.00</td>\n",
       "      <td>320.00</td>\n",
       "      <td>3.00</td>\n",
       "      <td>-1.00</td>\n",
       "      <td>0.00</td>\n",
       "    </tr>\n",
       "    <tr>\n",
       "      <th>max</th>\n",
       "      <td>39999.00</td>\n",
       "      <td>150.00</td>\n",
       "      <td>102127.00</td>\n",
       "      <td>31.00</td>\n",
       "      <td>75000.00</td>\n",
       "      <td>58.00</td>\n",
       "      <td>871.00</td>\n",
       "      <td>275.00</td>\n",
       "    </tr>\n",
       "  </tbody>\n",
       "</table>\n",
       "</div>"
      ],
      "text/plain": [
       "             id       age    balance       day  duration  campaign     pdays  \\\n",
       "count  40000.00  38801.00   38208.00  40000.00  40000.00  38603.00  40000.00   \n",
       "mean   19999.50     40.96    1364.65     15.82    380.42      2.75     40.36   \n",
       "std    11547.15     11.03    3059.02      8.33   3044.41      3.04    100.29   \n",
       "min        0.00      8.00   -8019.00      1.00    -20.00      1.00     -1.00   \n",
       "25%     9999.75     33.00      73.00      8.00    102.00      1.00     -1.00   \n",
       "50%    19999.50     39.00     450.50     16.00    180.00      2.00     -1.00   \n",
       "75%    29999.25     48.00    1423.00     21.00    320.00      3.00     -1.00   \n",
       "max    39999.00    150.00  102127.00     31.00  75000.00     58.00    871.00   \n",
       "\n",
       "       previous  \n",
       "count  39703.00  \n",
       "mean       0.58  \n",
       "std        2.34  \n",
       "min        0.00  \n",
       "25%        0.00  \n",
       "50%        0.00  \n",
       "75%        0.00  \n",
       "max      275.00  "
      ]
     },
     "execution_count": 113,
     "metadata": {},
     "output_type": "execute_result"
    }
   ],
   "source": [
    "df.describe().round(2)\n"
   ]
  },
  {
   "cell_type": "code",
   "execution_count": 114,
   "metadata": {},
   "outputs": [
    {
     "data": {
      "text/html": [
       "<div>\n",
       "<style scoped>\n",
       "    .dataframe tbody tr th:only-of-type {\n",
       "        vertical-align: middle;\n",
       "    }\n",
       "\n",
       "    .dataframe tbody tr th {\n",
       "        vertical-align: top;\n",
       "    }\n",
       "\n",
       "    .dataframe thead th {\n",
       "        text-align: right;\n",
       "    }\n",
       "</style>\n",
       "<table border=\"1\" class=\"dataframe\">\n",
       "  <thead>\n",
       "    <tr style=\"text-align: right;\">\n",
       "      <th></th>\n",
       "      <th>job</th>\n",
       "      <th>marital</th>\n",
       "      <th>education</th>\n",
       "      <th>location</th>\n",
       "      <th>default</th>\n",
       "      <th>housing</th>\n",
       "      <th>loan</th>\n",
       "      <th>contact</th>\n",
       "      <th>month</th>\n",
       "      <th>poutcome</th>\n",
       "      <th>y</th>\n",
       "    </tr>\n",
       "  </thead>\n",
       "  <tbody>\n",
       "    <tr>\n",
       "      <th>count</th>\n",
       "      <td>38651</td>\n",
       "      <td>39903</td>\n",
       "      <td>40000</td>\n",
       "      <td>18498</td>\n",
       "      <td>40000</td>\n",
       "      <td>40000</td>\n",
       "      <td>40000</td>\n",
       "      <td>39266</td>\n",
       "      <td>40000</td>\n",
       "      <td>40000</td>\n",
       "      <td>40000</td>\n",
       "    </tr>\n",
       "    <tr>\n",
       "      <th>unique</th>\n",
       "      <td>13</td>\n",
       "      <td>3</td>\n",
       "      <td>4</td>\n",
       "      <td>6</td>\n",
       "      <td>2</td>\n",
       "      <td>2</td>\n",
       "      <td>4</td>\n",
       "      <td>3</td>\n",
       "      <td>12</td>\n",
       "      <td>4</td>\n",
       "      <td>2</td>\n",
       "    </tr>\n",
       "    <tr>\n",
       "      <th>top</th>\n",
       "      <td>blue-collar</td>\n",
       "      <td>married</td>\n",
       "      <td>secondary</td>\n",
       "      <td>Lisboa</td>\n",
       "      <td>no</td>\n",
       "      <td>yes</td>\n",
       "      <td>no</td>\n",
       "      <td>cellular</td>\n",
       "      <td>may</td>\n",
       "      <td>unknown</td>\n",
       "      <td>no</td>\n",
       "    </tr>\n",
       "    <tr>\n",
       "      <th>freq</th>\n",
       "      <td>8313</td>\n",
       "      <td>24009</td>\n",
       "      <td>20563</td>\n",
       "      <td>9261</td>\n",
       "      <td>39268</td>\n",
       "      <td>22213</td>\n",
       "      <td>23551</td>\n",
       "      <td>25447</td>\n",
       "      <td>12200</td>\n",
       "      <td>32662</td>\n",
       "      <td>35322</td>\n",
       "    </tr>\n",
       "  </tbody>\n",
       "</table>\n",
       "</div>"
      ],
      "text/plain": [
       "                job  marital  education location default housing   loan  \\\n",
       "count         38651    39903      40000    18498   40000   40000  40000   \n",
       "unique           13        3          4        6       2       2      4   \n",
       "top     blue-collar  married  secondary   Lisboa      no     yes     no   \n",
       "freq           8313    24009      20563     9261   39268   22213  23551   \n",
       "\n",
       "         contact  month poutcome      y  \n",
       "count      39266  40000    40000  40000  \n",
       "unique         3     12        4      2  \n",
       "top     cellular    may  unknown     no  \n",
       "freq       25447  12200    32662  35322  "
      ]
     },
     "execution_count": 114,
     "metadata": {},
     "output_type": "execute_result"
    }
   ],
   "source": [
    "df.describe(include=['object'])"
   ]
  },
  {
   "cell_type": "markdown",
   "metadata": {},
   "source": [
    "Analisando quais os diferentes valores que cada string assume, nelas a gente observa que algumas string tem seus valores como YES ou NO e podemos substitui-las por 1 e 0"
   ]
  },
  {
   "cell_type": "code",
   "execution_count": 115,
   "metadata": {},
   "outputs": [
    {
     "name": "stdout",
     "output_type": "stream",
     "text": [
      "job\n",
      "['management' 'blue-collar' 'student' 'self-employed' 'technician'\n",
      " 'administrator' 'retired' 'housemaid' 'services' 'unemployed' nan\n",
      " 'admin.' 'unknown' 'entrepreneur'] \n",
      "\n",
      "marital\n",
      "['single' 'married' 'divorced' nan] \n",
      "\n",
      "education\n",
      "['tertiary' 'primary' 'secondary' 'unknown'] \n",
      "\n",
      "location\n",
      "[nan 'Lisboa' 'Porto' 'Amadora' 'Braga' 'Coimbra' 'Faro'] \n",
      "\n",
      "default\n",
      "['no' 'yes'] \n",
      "\n",
      "housing\n",
      "['no' 'yes'] \n",
      "\n",
      "loan\n",
      "['no' 'n' 'y' 'yes'] \n",
      "\n",
      "contact\n",
      "['cellular' 'unknown' nan 'telephone'] \n",
      "\n",
      "month\n",
      "['aug' 'may' 'oct' 'nov' 'jul' 'jun' 'apr' 'jan' 'feb' 'sep' 'mar' 'dec'] \n",
      "\n",
      "poutcome\n",
      "['unknown' 'other' 'failure' 'success'] \n",
      "\n",
      "y\n",
      "['no' 'yes'] \n",
      "\n"
     ]
    }
   ],
   "source": [
    "categoricas = df.select_dtypes(include=['object']).columns.tolist()\n",
    "\n",
    "for col in categoricas:\n",
    "  print(col)\n",
    "  print(df[col].unique(), \"\\n\")"
   ]
  },
  {
   "cell_type": "code",
   "execution_count": 7,
   "metadata": {},
   "outputs": [],
   "source": [
    "df_clean = df.copy()"
   ]
  },
  {
   "cell_type": "markdown",
   "metadata": {},
   "source": [
    "## Mapeamento de dados"
   ]
  },
  {
   "cell_type": "code",
   "execution_count": 61,
   "metadata": {},
   "outputs": [
    {
     "name": "stderr",
     "output_type": "stream",
     "text": [
      "C:\\Users\\jvmil\\AppData\\Local\\Temp\\ipykernel_14260\\3586671744.py:1: FutureWarning: Downcasting behavior in `replace` is deprecated and will be removed in a future version. To retain the old behavior, explicitly call `result.infer_objects(copy=False)`. To opt-in to the future behavior, set `pd.set_option('future.no_silent_downcasting', True)`\n",
      "  df_clean['y'] = df['y'].replace({\"yes\": 1, \"no\": 0})\n",
      "C:\\Users\\jvmil\\AppData\\Local\\Temp\\ipykernel_14260\\3586671744.py:2: FutureWarning: Downcasting behavior in `replace` is deprecated and will be removed in a future version. To retain the old behavior, explicitly call `result.infer_objects(copy=False)`. To opt-in to the future behavior, set `pd.set_option('future.no_silent_downcasting', True)`\n",
      "  df_clean['loan'] = df['loan'].replace({'no': 0, 'n': 0, 'y':1, 'yes':1})\n",
      "C:\\Users\\jvmil\\AppData\\Local\\Temp\\ipykernel_14260\\3586671744.py:3: FutureWarning: Downcasting behavior in `replace` is deprecated and will be removed in a future version. To retain the old behavior, explicitly call `result.infer_objects(copy=False)`. To opt-in to the future behavior, set `pd.set_option('future.no_silent_downcasting', True)`\n",
      "  df_clean['default'] = df['default'].replace({'no': 0, 'yes':1})\n",
      "C:\\Users\\jvmil\\AppData\\Local\\Temp\\ipykernel_14260\\3586671744.py:4: FutureWarning: Downcasting behavior in `replace` is deprecated and will be removed in a future version. To retain the old behavior, explicitly call `result.infer_objects(copy=False)`. To opt-in to the future behavior, set `pd.set_option('future.no_silent_downcasting', True)`\n",
      "  df_clean['housing'] = df['housing'].replace({'no': 0, 'yes':1})\n"
     ]
    }
   ],
   "source": [
    "df_clean['y'] = df['y'].replace({\"yes\": 1, \"no\": 0})\n",
    "df_clean['loan'] = df['loan'].replace({'no': 0, 'n': 0, 'y':1, 'yes':1})\n",
    "df_clean['default'] = df['default'].replace({'no': 0, 'yes':1})\n",
    "df_clean['housing'] = df['housing'].replace({'no': 0, 'yes':1})\n"
   ]
  },
  {
   "cell_type": "code",
   "execution_count": 60,
   "metadata": {},
   "outputs": [
    {
     "data": {
      "text/html": [
       "<div>\n",
       "<style scoped>\n",
       "    .dataframe tbody tr th:only-of-type {\n",
       "        vertical-align: middle;\n",
       "    }\n",
       "\n",
       "    .dataframe tbody tr th {\n",
       "        vertical-align: top;\n",
       "    }\n",
       "\n",
       "    .dataframe thead th {\n",
       "        text-align: right;\n",
       "    }\n",
       "</style>\n",
       "<table border=\"1\" class=\"dataframe\">\n",
       "  <thead>\n",
       "    <tr style=\"text-align: right;\">\n",
       "      <th></th>\n",
       "      <th>age</th>\n",
       "      <th>job</th>\n",
       "      <th>marital</th>\n",
       "      <th>education</th>\n",
       "      <th>default</th>\n",
       "      <th>balance</th>\n",
       "      <th>housing</th>\n",
       "      <th>loan</th>\n",
       "      <th>contact</th>\n",
       "      <th>day</th>\n",
       "      <th>month</th>\n",
       "      <th>duration</th>\n",
       "      <th>campaign</th>\n",
       "      <th>pdays</th>\n",
       "      <th>previous</th>\n",
       "      <th>y</th>\n",
       "    </tr>\n",
       "  </thead>\n",
       "  <tbody>\n",
       "    <tr>\n",
       "      <th>0</th>\n",
       "      <td>41.0</td>\n",
       "      <td>management</td>\n",
       "      <td>single</td>\n",
       "      <td>NaN</td>\n",
       "      <td>0</td>\n",
       "      <td>4522.0</td>\n",
       "      <td>0</td>\n",
       "      <td>0</td>\n",
       "      <td>cellular</td>\n",
       "      <td>28</td>\n",
       "      <td>8</td>\n",
       "      <td>55</td>\n",
       "      <td>1.0</td>\n",
       "      <td>-1</td>\n",
       "      <td>0.0</td>\n",
       "      <td>0</td>\n",
       "    </tr>\n",
       "    <tr>\n",
       "      <th>1</th>\n",
       "      <td>42.0</td>\n",
       "      <td>blue-collar</td>\n",
       "      <td>married</td>\n",
       "      <td>1.0</td>\n",
       "      <td>1</td>\n",
       "      <td>398.0</td>\n",
       "      <td>1</td>\n",
       "      <td>0</td>\n",
       "      <td>unknown</td>\n",
       "      <td>16</td>\n",
       "      <td>5</td>\n",
       "      <td>251</td>\n",
       "      <td>4.0</td>\n",
       "      <td>-1</td>\n",
       "      <td>0.0</td>\n",
       "      <td>0</td>\n",
       "    </tr>\n",
       "    <tr>\n",
       "      <th>2</th>\n",
       "      <td>26.0</td>\n",
       "      <td>student</td>\n",
       "      <td>single</td>\n",
       "      <td>NaN</td>\n",
       "      <td>0</td>\n",
       "      <td>706.0</td>\n",
       "      <td>0</td>\n",
       "      <td>0</td>\n",
       "      <td>unknown</td>\n",
       "      <td>8</td>\n",
       "      <td>10</td>\n",
       "      <td>118</td>\n",
       "      <td>1.0</td>\n",
       "      <td>105</td>\n",
       "      <td>2.0</td>\n",
       "      <td>0</td>\n",
       "    </tr>\n",
       "    <tr>\n",
       "      <th>3</th>\n",
       "      <td>54.0</td>\n",
       "      <td>management</td>\n",
       "      <td>married</td>\n",
       "      <td>NaN</td>\n",
       "      <td>0</td>\n",
       "      <td>0.0</td>\n",
       "      <td>0</td>\n",
       "      <td>1</td>\n",
       "      <td>cellular</td>\n",
       "      <td>19</td>\n",
       "      <td>11</td>\n",
       "      <td>307</td>\n",
       "      <td>3.0</td>\n",
       "      <td>-1</td>\n",
       "      <td>0.0</td>\n",
       "      <td>0</td>\n",
       "    </tr>\n",
       "    <tr>\n",
       "      <th>4</th>\n",
       "      <td>43.0</td>\n",
       "      <td>self-employed</td>\n",
       "      <td>married</td>\n",
       "      <td>NaN</td>\n",
       "      <td>0</td>\n",
       "      <td>918.0</td>\n",
       "      <td>1</td>\n",
       "      <td>0</td>\n",
       "      <td>unknown</td>\n",
       "      <td>6</td>\n",
       "      <td>5</td>\n",
       "      <td>193</td>\n",
       "      <td>1.0</td>\n",
       "      <td>-1</td>\n",
       "      <td>0.0</td>\n",
       "      <td>0</td>\n",
       "    </tr>\n",
       "  </tbody>\n",
       "</table>\n",
       "</div>"
      ],
      "text/plain": [
       "    age            job  marital  education  default  balance  housing  loan  \\\n",
       "0  41.0     management   single        NaN        0   4522.0        0     0   \n",
       "1  42.0    blue-collar  married        1.0        1    398.0        1     0   \n",
       "2  26.0        student   single        NaN        0    706.0        0     0   \n",
       "3  54.0     management  married        NaN        0      0.0        0     1   \n",
       "4  43.0  self-employed  married        NaN        0    918.0        1     0   \n",
       "\n",
       "    contact  day  month  duration  campaign  pdays  previous  y  \n",
       "0  cellular   28      8        55       1.0     -1       0.0  0  \n",
       "1   unknown   16      5       251       4.0     -1       0.0  0  \n",
       "2   unknown    8     10       118       1.0    105       2.0  0  \n",
       "3  cellular   19     11       307       3.0     -1       0.0  0  \n",
       "4   unknown    6      5       193       1.0     -1       0.0  0  "
      ]
     },
     "execution_count": 60,
     "metadata": {},
     "output_type": "execute_result"
    }
   ],
   "source": [
    "month_mapping = {\n",
    "    'jan': 1, 'feb': 2, 'mar': 3, 'apr': 4, 'may': 5, 'jun': 6,\n",
    "    'jul': 7, 'aug': 8, 'sep': 9, 'oct': 10, 'nov': 11, 'dec': 12\n",
    "}\n",
    "\n",
    "# Aplicar o mapeamento à coluna 'month'\n",
    "df_clean['month'] = df['month'].map(month_mapping)\n",
    "df_clean.head()"
   ]
  },
  {
   "cell_type": "markdown",
   "metadata": {},
   "source": [
    "Trocar os niveis de educação primário por 1, secundário por 2 e terciário por 3"
   ]
  },
  {
   "cell_type": "code",
   "execution_count": 66,
   "metadata": {},
   "outputs": [
    {
     "data": {
      "text/html": [
       "<div>\n",
       "<style scoped>\n",
       "    .dataframe tbody tr th:only-of-type {\n",
       "        vertical-align: middle;\n",
       "    }\n",
       "\n",
       "    .dataframe tbody tr th {\n",
       "        vertical-align: top;\n",
       "    }\n",
       "\n",
       "    .dataframe thead th {\n",
       "        text-align: right;\n",
       "    }\n",
       "</style>\n",
       "<table border=\"1\" class=\"dataframe\">\n",
       "  <thead>\n",
       "    <tr style=\"text-align: right;\">\n",
       "      <th></th>\n",
       "      <th>age</th>\n",
       "      <th>job</th>\n",
       "      <th>marital</th>\n",
       "      <th>education</th>\n",
       "      <th>default</th>\n",
       "      <th>balance</th>\n",
       "      <th>housing</th>\n",
       "      <th>loan</th>\n",
       "      <th>contact</th>\n",
       "      <th>day</th>\n",
       "      <th>month</th>\n",
       "      <th>duration</th>\n",
       "      <th>campaign</th>\n",
       "      <th>pdays</th>\n",
       "      <th>previous</th>\n",
       "      <th>y</th>\n",
       "    </tr>\n",
       "  </thead>\n",
       "  <tbody>\n",
       "    <tr>\n",
       "      <th>0</th>\n",
       "      <td>41.0</td>\n",
       "      <td>management</td>\n",
       "      <td>single</td>\n",
       "      <td>3.0</td>\n",
       "      <td>0</td>\n",
       "      <td>4522.0</td>\n",
       "      <td>0</td>\n",
       "      <td>0</td>\n",
       "      <td>cellular</td>\n",
       "      <td>28</td>\n",
       "      <td>8</td>\n",
       "      <td>55</td>\n",
       "      <td>1.0</td>\n",
       "      <td>-1</td>\n",
       "      <td>0.0</td>\n",
       "      <td>0</td>\n",
       "    </tr>\n",
       "    <tr>\n",
       "      <th>1</th>\n",
       "      <td>42.0</td>\n",
       "      <td>blue-collar</td>\n",
       "      <td>married</td>\n",
       "      <td>1.0</td>\n",
       "      <td>1</td>\n",
       "      <td>398.0</td>\n",
       "      <td>1</td>\n",
       "      <td>0</td>\n",
       "      <td>unknown</td>\n",
       "      <td>16</td>\n",
       "      <td>5</td>\n",
       "      <td>251</td>\n",
       "      <td>4.0</td>\n",
       "      <td>-1</td>\n",
       "      <td>0.0</td>\n",
       "      <td>0</td>\n",
       "    </tr>\n",
       "    <tr>\n",
       "      <th>2</th>\n",
       "      <td>26.0</td>\n",
       "      <td>student</td>\n",
       "      <td>single</td>\n",
       "      <td>2.0</td>\n",
       "      <td>0</td>\n",
       "      <td>706.0</td>\n",
       "      <td>0</td>\n",
       "      <td>0</td>\n",
       "      <td>unknown</td>\n",
       "      <td>8</td>\n",
       "      <td>10</td>\n",
       "      <td>118</td>\n",
       "      <td>1.0</td>\n",
       "      <td>105</td>\n",
       "      <td>2.0</td>\n",
       "      <td>0</td>\n",
       "    </tr>\n",
       "    <tr>\n",
       "      <th>3</th>\n",
       "      <td>54.0</td>\n",
       "      <td>management</td>\n",
       "      <td>married</td>\n",
       "      <td>3.0</td>\n",
       "      <td>0</td>\n",
       "      <td>0.0</td>\n",
       "      <td>0</td>\n",
       "      <td>1</td>\n",
       "      <td>cellular</td>\n",
       "      <td>19</td>\n",
       "      <td>11</td>\n",
       "      <td>307</td>\n",
       "      <td>3.0</td>\n",
       "      <td>-1</td>\n",
       "      <td>0.0</td>\n",
       "      <td>0</td>\n",
       "    </tr>\n",
       "    <tr>\n",
       "      <th>4</th>\n",
       "      <td>43.0</td>\n",
       "      <td>self-employed</td>\n",
       "      <td>married</td>\n",
       "      <td>2.0</td>\n",
       "      <td>0</td>\n",
       "      <td>918.0</td>\n",
       "      <td>1</td>\n",
       "      <td>0</td>\n",
       "      <td>unknown</td>\n",
       "      <td>6</td>\n",
       "      <td>5</td>\n",
       "      <td>193</td>\n",
       "      <td>1.0</td>\n",
       "      <td>-1</td>\n",
       "      <td>0.0</td>\n",
       "      <td>0</td>\n",
       "    </tr>\n",
       "  </tbody>\n",
       "</table>\n",
       "</div>"
      ],
      "text/plain": [
       "    age            job  marital  education  default  balance  housing  loan  \\\n",
       "0  41.0     management   single        3.0        0   4522.0        0     0   \n",
       "1  42.0    blue-collar  married        1.0        1    398.0        1     0   \n",
       "2  26.0        student   single        2.0        0    706.0        0     0   \n",
       "3  54.0     management  married        3.0        0      0.0        0     1   \n",
       "4  43.0  self-employed  married        2.0        0    918.0        1     0   \n",
       "\n",
       "    contact  day  month  duration  campaign  pdays  previous  y  \n",
       "0  cellular   28      8        55       1.0     -1       0.0  0  \n",
       "1   unknown   16      5       251       4.0     -1       0.0  0  \n",
       "2   unknown    8     10       118       1.0    105       2.0  0  \n",
       "3  cellular   19     11       307       3.0     -1       0.0  0  \n",
       "4   unknown    6      5       193       1.0     -1       0.0  0  "
      ]
     },
     "execution_count": 66,
     "metadata": {},
     "output_type": "execute_result"
    }
   ],
   "source": [
    "education_mapping = {\n",
    "    'primary': 1, 'secondary': 2, 'tertiary': 3\n",
    "}\n",
    "\n",
    "# Aplicar o mapeamento à coluna 'month'\n",
    "df_clean['education'] = df['education'].map(education_mapping)\n",
    "df_clean.head()"
   ]
  },
  {
   "cell_type": "markdown",
   "metadata": {},
   "source": [
    "## Limpeza de linhas desconhecidas (unknown)"
   ]
  },
  {
   "cell_type": "code",
   "execution_count": null,
   "metadata": {},
   "outputs": [],
   "source": [
    "ocorrencias = df['job'].value_counts().get('unknown', 0)\n",
    "print(ocorrencias)\n",
    "# dropar esses 239"
   ]
  },
  {
   "cell_type": "code",
   "execution_count": 42,
   "metadata": {},
   "outputs": [],
   "source": [
    "df_clean = df_clean[df_clean['job'] != 'unknown']"
   ]
  },
  {
   "cell_type": "code",
   "execution_count": null,
   "metadata": {},
   "outputs": [],
   "source": [
    "ocorrencias = df['education'].value_counts().get('unknown', 0)\n",
    "print(ocorrencias)\n",
    "# dropar esses 1639"
   ]
  },
  {
   "cell_type": "code",
   "execution_count": 96,
   "metadata": {},
   "outputs": [
    {
     "name": "stdout",
     "output_type": "stream",
     "text": [
      "11318\n"
     ]
    }
   ],
   "source": [
    "ocorrencias = df['contact'].value_counts().get('unknown', 0)\n",
    "print(ocorrencias)"
   ]
  },
  {
   "cell_type": "code",
   "execution_count": 47,
   "metadata": {},
   "outputs": [],
   "source": [
    "df_clean = df_clean[df_clean['education'] != 'unknown']"
   ]
  },
  {
   "cell_type": "markdown",
   "metadata": {},
   "source": [
    "## Limpeza de colunas com muitos NaN"
   ]
  },
  {
   "cell_type": "code",
   "execution_count": 27,
   "metadata": {},
   "outputs": [],
   "source": [
    "df_clean = df_clean.drop(columns=['location'])\n",
    "# Mais que 21K de NaN"
   ]
  },
  {
   "cell_type": "code",
   "execution_count": 26,
   "metadata": {},
   "outputs": [],
   "source": [
    "df_clean = df_clean.drop(columns=['poutcome'])\n",
    "\n",
    "#32000 unknown"
   ]
  },
  {
   "cell_type": "code",
   "execution_count": 29,
   "metadata": {},
   "outputs": [],
   "source": [
    "df_clean = df_clean.drop(columns=['id'])\n",
    "\n",
    "#dropar pq n tem significado\n"
   ]
  },
  {
   "cell_type": "code",
   "execution_count": 95,
   "metadata": {},
   "outputs": [
    {
     "data": {
      "text/html": [
       "<div>\n",
       "<style scoped>\n",
       "    .dataframe tbody tr th:only-of-type {\n",
       "        vertical-align: middle;\n",
       "    }\n",
       "\n",
       "    .dataframe tbody tr th {\n",
       "        vertical-align: top;\n",
       "    }\n",
       "\n",
       "    .dataframe thead th {\n",
       "        text-align: right;\n",
       "    }\n",
       "</style>\n",
       "<table border=\"1\" class=\"dataframe\">\n",
       "  <thead>\n",
       "    <tr style=\"text-align: right;\">\n",
       "      <th></th>\n",
       "      <th>age</th>\n",
       "      <th>job</th>\n",
       "      <th>marital</th>\n",
       "      <th>education</th>\n",
       "      <th>default</th>\n",
       "      <th>balance</th>\n",
       "      <th>housing</th>\n",
       "      <th>loan</th>\n",
       "      <th>contact</th>\n",
       "      <th>day</th>\n",
       "      <th>month</th>\n",
       "      <th>duration</th>\n",
       "      <th>campaign</th>\n",
       "      <th>pdays</th>\n",
       "      <th>previous</th>\n",
       "      <th>y</th>\n",
       "    </tr>\n",
       "  </thead>\n",
       "  <tbody>\n",
       "    <tr>\n",
       "      <th>0</th>\n",
       "      <td>41.0</td>\n",
       "      <td>management</td>\n",
       "      <td>single</td>\n",
       "      <td>3.0</td>\n",
       "      <td>0</td>\n",
       "      <td>4522.0</td>\n",
       "      <td>0</td>\n",
       "      <td>0</td>\n",
       "      <td>cellular</td>\n",
       "      <td>28</td>\n",
       "      <td>8</td>\n",
       "      <td>55</td>\n",
       "      <td>1.0</td>\n",
       "      <td>-1</td>\n",
       "      <td>0.0</td>\n",
       "      <td>0</td>\n",
       "    </tr>\n",
       "    <tr>\n",
       "      <th>1</th>\n",
       "      <td>42.0</td>\n",
       "      <td>blue-collar</td>\n",
       "      <td>married</td>\n",
       "      <td>1.0</td>\n",
       "      <td>1</td>\n",
       "      <td>398.0</td>\n",
       "      <td>1</td>\n",
       "      <td>0</td>\n",
       "      <td>unknown</td>\n",
       "      <td>16</td>\n",
       "      <td>5</td>\n",
       "      <td>251</td>\n",
       "      <td>4.0</td>\n",
       "      <td>-1</td>\n",
       "      <td>0.0</td>\n",
       "      <td>0</td>\n",
       "    </tr>\n",
       "    <tr>\n",
       "      <th>2</th>\n",
       "      <td>26.0</td>\n",
       "      <td>student</td>\n",
       "      <td>single</td>\n",
       "      <td>2.0</td>\n",
       "      <td>0</td>\n",
       "      <td>706.0</td>\n",
       "      <td>0</td>\n",
       "      <td>0</td>\n",
       "      <td>unknown</td>\n",
       "      <td>8</td>\n",
       "      <td>10</td>\n",
       "      <td>118</td>\n",
       "      <td>1.0</td>\n",
       "      <td>105</td>\n",
       "      <td>2.0</td>\n",
       "      <td>0</td>\n",
       "    </tr>\n",
       "    <tr>\n",
       "      <th>3</th>\n",
       "      <td>54.0</td>\n",
       "      <td>management</td>\n",
       "      <td>married</td>\n",
       "      <td>3.0</td>\n",
       "      <td>0</td>\n",
       "      <td>0.0</td>\n",
       "      <td>0</td>\n",
       "      <td>1</td>\n",
       "      <td>cellular</td>\n",
       "      <td>19</td>\n",
       "      <td>11</td>\n",
       "      <td>307</td>\n",
       "      <td>3.0</td>\n",
       "      <td>-1</td>\n",
       "      <td>0.0</td>\n",
       "      <td>0</td>\n",
       "    </tr>\n",
       "    <tr>\n",
       "      <th>4</th>\n",
       "      <td>43.0</td>\n",
       "      <td>self-employed</td>\n",
       "      <td>married</td>\n",
       "      <td>2.0</td>\n",
       "      <td>0</td>\n",
       "      <td>918.0</td>\n",
       "      <td>1</td>\n",
       "      <td>0</td>\n",
       "      <td>unknown</td>\n",
       "      <td>6</td>\n",
       "      <td>5</td>\n",
       "      <td>193</td>\n",
       "      <td>1.0</td>\n",
       "      <td>-1</td>\n",
       "      <td>0.0</td>\n",
       "      <td>0</td>\n",
       "    </tr>\n",
       "    <tr>\n",
       "      <th>...</th>\n",
       "      <td>...</td>\n",
       "      <td>...</td>\n",
       "      <td>...</td>\n",
       "      <td>...</td>\n",
       "      <td>...</td>\n",
       "      <td>...</td>\n",
       "      <td>...</td>\n",
       "      <td>...</td>\n",
       "      <td>...</td>\n",
       "      <td>...</td>\n",
       "      <td>...</td>\n",
       "      <td>...</td>\n",
       "      <td>...</td>\n",
       "      <td>...</td>\n",
       "      <td>...</td>\n",
       "      <td>...</td>\n",
       "    </tr>\n",
       "    <tr>\n",
       "      <th>39995</th>\n",
       "      <td>43.0</td>\n",
       "      <td>management</td>\n",
       "      <td>married</td>\n",
       "      <td>3.0</td>\n",
       "      <td>0</td>\n",
       "      <td>13851.0</td>\n",
       "      <td>1</td>\n",
       "      <td>0</td>\n",
       "      <td>cellular</td>\n",
       "      <td>21</td>\n",
       "      <td>11</td>\n",
       "      <td>259</td>\n",
       "      <td>1.0</td>\n",
       "      <td>-1</td>\n",
       "      <td>0.0</td>\n",
       "      <td>0</td>\n",
       "    </tr>\n",
       "    <tr>\n",
       "      <th>39996</th>\n",
       "      <td>34.0</td>\n",
       "      <td>blue-collar</td>\n",
       "      <td>married</td>\n",
       "      <td>1.0</td>\n",
       "      <td>0</td>\n",
       "      <td>357.0</td>\n",
       "      <td>1</td>\n",
       "      <td>0</td>\n",
       "      <td>unknown</td>\n",
       "      <td>14</td>\n",
       "      <td>5</td>\n",
       "      <td>197</td>\n",
       "      <td>2.0</td>\n",
       "      <td>-1</td>\n",
       "      <td>0.0</td>\n",
       "      <td>0</td>\n",
       "    </tr>\n",
       "    <tr>\n",
       "      <th>39997</th>\n",
       "      <td>30.0</td>\n",
       "      <td>management</td>\n",
       "      <td>single</td>\n",
       "      <td>3.0</td>\n",
       "      <td>0</td>\n",
       "      <td>4889.0</td>\n",
       "      <td>0</td>\n",
       "      <td>0</td>\n",
       "      <td>cellular</td>\n",
       "      <td>11</td>\n",
       "      <td>8</td>\n",
       "      <td>545</td>\n",
       "      <td>2.0</td>\n",
       "      <td>-1</td>\n",
       "      <td>0.0</td>\n",
       "      <td>1</td>\n",
       "    </tr>\n",
       "    <tr>\n",
       "      <th>39998</th>\n",
       "      <td>40.0</td>\n",
       "      <td>self-employed</td>\n",
       "      <td>married</td>\n",
       "      <td>3.0</td>\n",
       "      <td>0</td>\n",
       "      <td>271.0</td>\n",
       "      <td>1</td>\n",
       "      <td>0</td>\n",
       "      <td>cellular</td>\n",
       "      <td>21</td>\n",
       "      <td>11</td>\n",
       "      <td>124</td>\n",
       "      <td>3.0</td>\n",
       "      <td>102</td>\n",
       "      <td>4.0</td>\n",
       "      <td>0</td>\n",
       "    </tr>\n",
       "    <tr>\n",
       "      <th>39999</th>\n",
       "      <td>60.0</td>\n",
       "      <td>housemaid</td>\n",
       "      <td>married</td>\n",
       "      <td>3.0</td>\n",
       "      <td>0</td>\n",
       "      <td>443.0</td>\n",
       "      <td>0</td>\n",
       "      <td>0</td>\n",
       "      <td>unknown</td>\n",
       "      <td>5</td>\n",
       "      <td>6</td>\n",
       "      <td>60</td>\n",
       "      <td>1.0</td>\n",
       "      <td>-1</td>\n",
       "      <td>0.0</td>\n",
       "      <td>0</td>\n",
       "    </tr>\n",
       "  </tbody>\n",
       "</table>\n",
       "<p>31746 rows × 16 columns</p>\n",
       "</div>"
      ],
      "text/plain": [
       "        age            job  marital  education  default  balance  housing  \\\n",
       "0      41.0     management   single        3.0        0   4522.0        0   \n",
       "1      42.0    blue-collar  married        1.0        1    398.0        1   \n",
       "2      26.0        student   single        2.0        0    706.0        0   \n",
       "3      54.0     management  married        3.0        0      0.0        0   \n",
       "4      43.0  self-employed  married        2.0        0    918.0        1   \n",
       "...     ...            ...      ...        ...      ...      ...      ...   \n",
       "39995  43.0     management  married        3.0        0  13851.0        1   \n",
       "39996  34.0    blue-collar  married        1.0        0    357.0        1   \n",
       "39997  30.0     management   single        3.0        0   4889.0        0   \n",
       "39998  40.0  self-employed  married        3.0        0    271.0        1   \n",
       "39999  60.0      housemaid  married        3.0        0    443.0        0   \n",
       "\n",
       "       loan   contact  day  month  duration  campaign  pdays  previous  y  \n",
       "0         0  cellular   28      8        55       1.0     -1       0.0  0  \n",
       "1         0   unknown   16      5       251       4.0     -1       0.0  0  \n",
       "2         0   unknown    8     10       118       1.0    105       2.0  0  \n",
       "3         1  cellular   19     11       307       3.0     -1       0.0  0  \n",
       "4         0   unknown    6      5       193       1.0     -1       0.0  0  \n",
       "...     ...       ...  ...    ...       ...       ...    ...       ... ..  \n",
       "39995     0  cellular   21     11       259       1.0     -1       0.0  0  \n",
       "39996     0   unknown   14      5       197       2.0     -1       0.0  0  \n",
       "39997     0  cellular   11      8       545       2.0     -1       0.0  1  \n",
       "39998     0  cellular   21     11       124       3.0    102       4.0  0  \n",
       "39999     0   unknown    5      6        60       1.0     -1       0.0  0  \n",
       "\n",
       "[31746 rows x 16 columns]"
      ]
     },
     "execution_count": 95,
     "metadata": {},
     "output_type": "execute_result"
    }
   ],
   "source": [
    "df_clean.dropna()"
   ]
  },
  {
   "cell_type": "markdown",
   "metadata": {},
   "source": [
    "## Remoção de outliers"
   ]
  },
  {
   "cell_type": "code",
   "execution_count": 52,
   "metadata": {},
   "outputs": [
    {
     "data": {
      "text/plain": [
       "<seaborn.axisgrid.FacetGrid at 0x2cb4cc61b90>"
      ]
     },
     "execution_count": 52,
     "metadata": {},
     "output_type": "execute_result"
    },
    {
     "data": {
      "image/png": "[encoded data removed]",
      "text/plain": [
       "<Figure size 500x500 with 1 Axes>"
      ]
     },
     "metadata": {},
     "output_type": "display_data"
    }
   ],
   "source": [
    "sns.displot(df['age'], bins=18)"
   ]
  },
  {
   "cell_type": "markdown",
   "metadata": {},
   "source": [
    "Retiraremos os superhumanos com 150 anos, os acima de 80 pela falta de dados e os abaixo de 18 por não fazer sentido para o problema"
   ]
  },
  {
   "cell_type": "code",
   "execution_count": 133,
   "metadata": {},
   "outputs": [
    {
     "name": "stdout",
     "output_type": "stream",
     "text": [
      "      age  count\n",
      "0     8.0     17\n",
      "1    18.0     11\n",
      "2    19.0     28\n",
      "3    20.0     43\n",
      "4    21.0     69\n",
      "..    ...    ...\n",
      "74   92.0      2\n",
      "75   93.0      2\n",
      "76   94.0      1\n",
      "77   95.0      2\n",
      "78  150.0     27\n",
      "\n",
      "[79 rows x 2 columns]\n"
     ]
    }
   ],
   "source": [
    "age_count = df.groupby('age').size().reset_index(name='count')\n",
    "print(age_count)"
   ]
  },
  {
   "cell_type": "code",
   "execution_count": 22,
   "metadata": {},
   "outputs": [
    {
     "name": "stdout",
     "output_type": "stream",
     "text": [
      "     age  count\n",
      "0   18.0     11\n",
      "1   19.0     28\n",
      "2   20.0     43\n",
      "3   21.0     69\n",
      "4   22.0    118\n",
      "..   ...    ...\n",
      "58  76.0     27\n",
      "59  77.0     37\n",
      "60  78.0     28\n",
      "61  79.0     22\n",
      "62  80.0     30\n",
      "\n",
      "[63 rows x 2 columns]\n"
     ]
    }
   ],
   "source": [
    "df_clean = df_clean[(df_clean['age'] <= 80) & (df_clean['age'] > 8)]\n",
    "age_count = df_clean.groupby('age').size().reset_index(name='count')\n",
    "print(age_count)\n"
   ]
  },
  {
   "cell_type": "code",
   "execution_count": 37,
   "metadata": {},
   "outputs": [
    {
     "name": "stdout",
     "output_type": "stream",
     "text": [
      "<class 'pandas.core.frame.DataFrame'>\n",
      "Index: 38671 entries, 0 to 39999\n",
      "Data columns (total 16 columns):\n",
      " #   Column     Non-Null Count  Dtype  \n",
      "---  ------     --------------  -----  \n",
      " 0   age        38671 non-null  float64\n",
      " 1   job        37370 non-null  object \n",
      " 2   marital    38580 non-null  object \n",
      " 3   education  38671 non-null  object \n",
      " 4   default    38671 non-null  int64  \n",
      " 5   balance    36933 non-null  float64\n",
      " 6   housing    38671 non-null  int64  \n",
      " 7   loan       38671 non-null  int64  \n",
      " 8   contact    37956 non-null  object \n",
      " 9   day        38671 non-null  int64  \n",
      " 10  month      38671 non-null  int64  \n",
      " 11  duration   38671 non-null  int64  \n",
      " 12  campaign   37314 non-null  float64\n",
      " 13  pdays      38671 non-null  int64  \n",
      " 14  previous   38383 non-null  float64\n",
      " 15  y          38671 non-null  int64  \n",
      "dtypes: float64(4), int64(8), object(4)\n",
      "memory usage: 5.0+ MB\n"
     ]
    }
   ],
   "source": [
    "df_clean.info()"
   ]
  },
  {
   "cell_type": "markdown",
   "metadata": {},
   "source": [
    "Visualizar unicos após as alterações"
   ]
  },
  {
   "cell_type": "code",
   "execution_count": 39,
   "metadata": {},
   "outputs": [
    {
     "name": "stdout",
     "output_type": "stream",
     "text": [
      "age\n",
      "[41. 42. 26. 54. 43. 34. 40. 45. 51. 21. 32. 60. 47. 46. 31. 53. 27. 29.\n",
      " 35. 36. 25. 37. 50. 77. 57. 30. 58. 33. 44. 48. 55. 61. 28. 39. 63. 59.\n",
      " 38. 70. 56. 65. 49. 22. 71. 52. 74. 23. 24. 64. 19. 78. 62. 73. 69. 67.\n",
      " 66. 80. 68. 72. 76. 75. 20. 79. 18.] \n",
      "\n",
      "job\n",
      "['management' 'blue-collar' 'student' 'self-employed' 'technician'\n",
      " 'administrator' 'retired' 'housemaid' 'services' nan 'admin.'\n",
      " 'unemployed' 'unknown' 'entrepreneur'] \n",
      "\n",
      "marital\n",
      "['single' 'married' 'divorced' nan] \n",
      "\n",
      "education\n",
      "['tertiary' 'primary' 'secondary' 'unknown'] \n",
      "\n",
      "default\n",
      "[0 1] \n",
      "\n",
      "balance\n",
      "[ 4522.   398.   706. ...  4820. 13851.  4889.] \n",
      "\n",
      "housing\n",
      "[0 1] \n",
      "\n",
      "loan\n",
      "[0 1] \n",
      "\n",
      "contact\n",
      "['cellular' 'unknown' nan 'telephone'] \n",
      "\n",
      "day\n",
      "[28 16  8 19  6 13 31 14  7 18  4 26  3 21  9 20 30  2 29  1 23 12 17 15\n",
      " 11 10 24 27  5 25 22] \n",
      "\n",
      "month\n",
      "[ 8  5 10 11  7  6  4  1  2  9  3 12] \n",
      "\n",
      "duration\n",
      "[  55  251  118 ... 1489 1167 1070] \n",
      "\n",
      "campaign\n",
      "[ 1.  4.  3.  6.  2. nan  5. 31. 13. 30. 21.  7. 26.  8. 19. 10. 14.  9.\n",
      " 12. 15. 29. 22. 16. 17. 11. 18. 24. 28. 33. 36. 20. 25. 23. 32. 27. 35.\n",
      " 43. 55. 41. 37. 38. 39. 34. 50. 58.] \n",
      "\n",
      "pdays\n",
      "[ -1 105 322 259 100 166  92   5 348 208 314 349 273 149  91 462 150 123\n",
      " 316 244  97 183 356 179 112 359 140 365 353 102 278 256 184 116 174 329\n",
      " 299  85 368 337 193 127 332 134 213 126  78  58 108 178   9 175 162  67\n",
      " 346 341 182 104 318 257 195 171 364  90 267 271  63 120 252  98 508 270\n",
      "  99 287  95 344 227 268  96 254 343 366 350 124 481 391 253 186  89 326\n",
      " 147 170 286 161 457 246 289 370 374 354 200  94 189 145 262 157 101 181\n",
      " 335 521 463 190 439 158 196  37 188 185 293 113  81 238 177 297 358 143\n",
      " 325 281 133  74 187 351 282 336 239  93 237 315 345 258 198 542 778 791\n",
      " 308 352 172 191 461 118 291  83 371 269 312 156 331 119 363 110  12  15\n",
      "  69 139 304 163 334 319 327 298 372 303 392 173   2  87 355 169 367 266\n",
      " 772 192 130  65 106 339 369 103 122 347 111 680 427 292 210 263 272 125\n",
      " 167 176 342 212  21 144 419  84 245 151 250 296 774 301 357 232 603 160\n",
      " 148  77 362 260 146 586  82 360 197 247 300 470  14  88 264 117 235 229\n",
      " 265 152 164 338   8 302 310 330   6 485 154 153 518 180  42 168  70 491\n",
      " 424 129 333 131 231 317 321 115 277  64 328  86 340 230 294 201 203 276\n",
      "  18 361 446 274 595 389 136 255 221 211 324 207 779  55 656  57 141 222\n",
      "  80 307 547 224 373 240 215 288 159  79 261 306 216 295 241  73 323 251\n",
      " 280  71 469 204 223 121 275 155 138 284 194 459  43 248  75  48 305  35\n",
      "  66 309 412  22  53 616  17 209 394  51  50 420 135 234 225   7 199 728\n",
      " 219 311 415 218 782 587 285 142 474 128 107  13  40 458  61 202 206 529\n",
      " 651 137 205 411 557 236 396 132  36 226 455 561 535 478  59 589 249 243\n",
      " 228 386 320  56 165  41  52  32  28 792 382 114 378   1  27  19 290 242\n",
      "  44 283 220 493 109 279  49  76 558 687  46 384 536 530  29 214 217 430\n",
      " 431 648 492 543 399 749 528 407 422 550 381  30 426 456  62 387 555 460\n",
      " 454 452 579 532  10 760 690 404 409   4 377 479 385 871  38 417 486 769\n",
      " 489 495 503 313 233 379 592 440 531 397 395 410 388 445   3 771 428 403\n",
      " 477 717 449 383 515 390 405 854 450 432 393 551 475  34  60  20 541 683\n",
      " 421  33 442 514  45  54 435 376  31 775 686 761 544 655  72 490  68 433\n",
      " 670 776  25 562  24 667 436 524 826 434  26 553 784 808 466 444 578 850\n",
      " 375 437 674 831 838 511 425 804 398 414 480 504 467] \n",
      "\n",
      "previous\n",
      "[  0.   2.   1.  nan   3.   4.   6.  10.  14.   8.  13.   5.  12.   9.\n",
      "  11.  40.   7.  18.  41.  22.  37.  20.  19.  23.  17. 275.  27.  29.\n",
      "  25.  15.  16.  28.  30.  26.  21.  24.  58.  55.  35.  38.  32.] \n",
      "\n",
      "y\n",
      "[0 1] \n",
      "\n"
     ]
    }
   ],
   "source": [
    "categoricas = df_clean.select_dtypes(include=['object','float64','int64']).columns.tolist()\n",
    "\n",
    "for col in categoricas:\n",
    "  print(col)\n",
    "  print(df_clean[col].unique(), \"\\n\")"
   ]
  },
  {
   "cell_type": "markdown",
   "metadata": {},
   "source": [
    "# Análise de dados úteis "
   ]
  },
  {
   "cell_type": "markdown",
   "metadata": {},
   "source": [
    "Tabela de média de Y por trabalho"
   ]
  },
  {
   "cell_type": "code",
   "execution_count": null,
   "metadata": {},
   "outputs": [],
   "source": [
    "mean_sucesso_trabalho = df_clean.groupby('job')['y'].mean()\n",
    "\n",
    "# Ordenando os níveis de educação pela média de promoção\n",
    "mean_sucesso_trabalho = mean_sucesso_trabalho.sort_values(ascending=False)\n",
    "\n",
    "# Plotando o gráfico de barras\n",
    "plt.figure(figsize=(6, 4))\n",
    "sns.barplot(x=mean_sucesso_trabalho.index, y=mean_sucesso_trabalho, palette='Set2',)\n",
    "plt.title('Média de sucesso por trabalho')\n",
    "plt.xlabel('Trabalho')\n",
    "plt.ylabel('Média de sucesso')\n",
    "plt.xticks(rotation=45)\n",
    "plt.tight_layout()\n",
    "plt.show()"
   ]
  },
  {
   "cell_type": "markdown",
   "metadata": {},
   "source": [
    "Média de Y por educação"
   ]
  },
  {
   "cell_type": "code",
   "execution_count": 68,
   "metadata": {},
   "outputs": [
    {
     "name": "stderr",
     "output_type": "stream",
     "text": [
      "C:\\Users\\jvmil\\AppData\\Local\\Temp\\ipykernel_14260\\1916903566.py:8: FutureWarning: \n",
      "\n",
      "Passing `palette` without assigning `hue` is deprecated and will be removed in v0.14.0. Assign the `x` variable to `hue` and set `legend=False` for the same effect.\n",
      "\n",
      "  sns.barplot(x=mean_sucesso_educacao.index, y=mean_sucesso_educacao, palette='Set2')\n"
     ]
    },
    {
     "data": {
      "image/png": "[encoded data removed]",
      "text/plain": [
       "<Figure size 800x600 with 1 Axes>"
      ]
     },
     "metadata": {},
     "output_type": "display_data"
    }
   ],
   "source": [
    "mean_sucesso_educacao = df_clean.groupby('education')['y'].mean()\n",
    "\n",
    "# Ordenando os níveis de educação pela média de promoção\n",
    "mean_sucesso_educacao = mean_sucesso_educacao.sort_values(ascending=False)\n",
    "\n",
    "# Plotando o gráfico de barras\n",
    "plt.figure(figsize=(8, 6))\n",
    "sns.barplot(x=mean_sucesso_educacao.index, y=mean_sucesso_educacao, palette='Set2')\n",
    "plt.title('Média de sucesso por nivel de educação')\n",
    "plt.xlabel('Trabalho')\n",
    "plt.ylabel('Média de nivel de educação')\n",
    "plt.xticks(rotation=45)\n",
    "plt.tight_layout()\n",
    "plt.show()\n"
   ]
  },
  {
   "cell_type": "markdown",
   "metadata": {},
   "source": [
    "Média de Y por idade "
   ]
  },
  {
   "cell_type": "code",
   "execution_count": 53,
   "metadata": {},
   "outputs": [
    {
     "data": {
      "image/png": "[encoded data removed]",
      "text/plain": [
       "<Figure size 800x500 with 1 Axes>"
      ]
     },
     "metadata": {},
     "output_type": "display_data"
    }
   ],
   "source": [
    "# Agrupar por 'age' e calcular a média de 'y'\n",
    "age_mean_y = df_clean.groupby('age')['y'].mean().reset_index()\n",
    "\n",
    "# Plotar o gráfico de linha\n",
    "plt.figure(figsize=(8, 5))\n",
    "plt.plot(age_mean_y['age'], age_mean_y['y'], marker='o')\n",
    "plt.xlabel('idade')\n",
    "plt.ylabel('Média de sucesso')\n",
    "plt.title('Média de sucesso por idade')\n",
    "plt.grid(True)\n",
    "plt.show()\n"
   ]
  },
  {
   "cell_type": "code",
   "execution_count": 74,
   "metadata": {},
   "outputs": [
    {
     "name": "stderr",
     "output_type": "stream",
     "text": [
      "C:\\Users\\jvmil\\AppData\\Local\\Temp\\ipykernel_14260\\2720719373.py:8: FutureWarning: \n",
      "\n",
      "Passing `palette` without assigning `hue` is deprecated and will be removed in v0.14.0. Assign the `x` variable to `hue` and set `legend=False` for the same effect.\n",
      "\n",
      "  sns.barplot(x=mean_sucesso_estado_civil.index, y=mean_sucesso_estado_civil, palette='Set2')\n"
     ]
    },
    {
     "data": {
      "image/png": "[encoded data removed]",
      "text/plain": [
       "<Figure size 800x600 with 1 Axes>"
      ]
     },
     "metadata": {},
     "output_type": "display_data"
    }
   ],
   "source": [
    "mean_sucesso_estado_civil = df_clean.groupby('marital')['y'].mean()\n",
    "\n",
    "# Ordenando os níveis de educação pela média de promoção\n",
    "mean_sucesso_estado_civil = mean_sucesso_estado_civil.sort_values()\n",
    "\n",
    "# Plotando o gráfico de barras\n",
    "plt.figure(figsize=(8, 6))\n",
    "sns.barplot(x=mean_sucesso_estado_civil.index, y=mean_sucesso_estado_civil, palette='Set2')\n",
    "plt.title('Média de Y')\n",
    "plt.xlabel('Estado Civil')\n",
    "plt.ylabel('Média por estado civil')\n",
    "plt.xticks(rotation=45)\n",
    "plt.tight_layout()\n",
    "plt.show()"
   ]
  },
  {
   "cell_type": "code",
   "execution_count": 76,
   "metadata": {},
   "outputs": [
    {
     "name": "stderr",
     "output_type": "stream",
     "text": [
      "C:\\Users\\jvmil\\AppData\\Local\\Temp\\ipykernel_14260\\3893543457.py:8: FutureWarning: \n",
      "\n",
      "Passing `palette` without assigning `hue` is deprecated and will be removed in v0.14.0. Assign the `x` variable to `hue` and set `legend=False` for the same effect.\n",
      "\n",
      "  sns.barplot(x=mean_sucesso_default.index, y=mean_sucesso_default, palette='Set2')\n"
     ]
    },
    {
     "data": {
      "image/png": "[encoded data removed]",
      "text/plain": [
       "<Figure size 800x600 with 1 Axes>"
      ]
     },
     "metadata": {},
     "output_type": "display_data"
    }
   ],
   "source": [
    "mean_sucesso_default = df_clean.groupby('default')['y'].mean()\n",
    "\n",
    "# Ordenando os níveis de educação pela média de promoção\n",
    "mean_sucesso_default = mean_sucesso_default.sort_values()\n",
    "\n",
    "# Plotando o gráfico de barras\n",
    "plt.figure(figsize=(8, 6))\n",
    "sns.barplot(x=mean_sucesso_default.index, y=mean_sucesso_default, palette='Set2')\n",
    "plt.title('Média de Y')\n",
    "plt.xlabel('Default')\n",
    "plt.ylabel('Média por default')\n",
    "plt.tight_layout()\n",
    "plt.show()"
   ]
  },
  {
   "cell_type": "code",
   "execution_count": 83,
   "metadata": {},
   "outputs": [
    {
     "name": "stderr",
     "output_type": "stream",
     "text": [
      "C:\\Users\\jvmil\\AppData\\Local\\Temp\\ipykernel_14260\\1626749542.py:8: FutureWarning: \n",
      "\n",
      "Passing `palette` without assigning `hue` is deprecated and will be removed in v0.14.0. Assign the `x` variable to `hue` and set `legend=False` for the same effect.\n",
      "\n",
      "  sns.barplot(x=mean_y_balance.index, y=mean_y_balance, palette='Set2')\n"
     ]
    },
    {
     "data": {
      "image/png": "[encoded data removed]",
      "text/plain": [
       "<Figure size 400x300 with 1 Axes>"
      ]
     },
     "metadata": {},
     "output_type": "display_data"
    }
   ],
   "source": [
    "mean_y_balance = df_clean.groupby('y')['balance'].mean()\n",
    "\n",
    "# Ordenando os níveis de educação pela média de promoção\n",
    "mean_y_balance = mean_y_balance.sort_values()\n",
    "\n",
    "# Plotando o gráfico de barras\n",
    "plt.figure(figsize=(4, 3))\n",
    "sns.barplot(x=mean_y_balance.index, y=mean_y_balance, palette='Set2')\n",
    "plt.title('Média de balance por cada Y')\n",
    "plt.xlabel('valor de Y')\n",
    "plt.ylabel('Média por balance')\n",
    "plt.tight_layout()\n",
    "plt.show()"
   ]
  },
  {
   "cell_type": "code",
   "execution_count": 94,
   "metadata": {},
   "outputs": [
    {
     "data": {
      "image/png": "[encoded data removed]",
      "text/plain": [
       "<Figure size 1000x600 with 1 Axes>"
      ]
     },
     "metadata": {},
     "output_type": "display_data"
    }
   ],
   "source": [
    "plt.figure(figsize=(10, 6))\n",
    "sns.boxplot(y='balance', data=df_clean)\n",
    "\n",
    "# Títulos e rótulos\n",
    "plt.title('Distribuição do Balance por Categoria de Y')\n",
    "plt.xlabel('y')\n",
    "plt.ylabel('Balance')\n",
    "\n",
    "# Exibindo o gráfico\n",
    "plt.show()"
   ]
  },
  {
   "cell_type": "code",
   "execution_count": 92,
   "metadata": {},
   "outputs": [
    {
     "data": {
      "image/png": "[encoded data removed]",
      "text/plain": [
       "<Figure size 1000x600 with 1 Axes>"
      ]
     },
     "metadata": {},
     "output_type": "display_data"
    }
   ],
   "source": [
    "plt.figure(figsize=(10, 6))\n",
    "plt.hist(df_clean['balance'], bins=30, edgecolor='black')\n",
    "\n",
    "# Títulos e rótulos\n",
    "plt.title('Distribuição do Balance')\n",
    "plt.xlabel('Balance')\n",
    "plt.ylabel('Frequência')\n",
    "\n",
    "# Exibindo o gráfico\n",
    "plt.show()"
   ]
  },
  {
   "cell_type": "code",
   "execution_count": 91,
   "metadata": {},
   "outputs": [],
   "source": [
    "#Retirando outliers\n",
    "df_clean= df_clean[(df_clean['balance'] < 15000) & (df_clean['balance'] > -5000) ]"
   ]
  },
  {
   "cell_type": "code",
   "execution_count": 97,
   "metadata": {},
   "outputs": [
    {
     "name": "stderr",
     "output_type": "stream",
     "text": [
      "C:\\Users\\jvmil\\AppData\\Local\\Temp\\ipykernel_14260\\982123523.py:8: FutureWarning: \n",
      "\n",
      "Passing `palette` without assigning `hue` is deprecated and will be removed in v0.14.0. Assign the `x` variable to `hue` and set `legend=False` for the same effect.\n",
      "\n",
      "  sns.barplot(x=mean_y_contact.index, y=mean_y_contact, palette='Set2')\n"
     ]
    },
    {
     "data": {
      "image/png": "[encoded data removed]",
      "text/plain": [
       "<Figure size 700x400 with 1 Axes>"
      ]
     },
     "metadata": {},
     "output_type": "display_data"
    }
   ],
   "source": [
    "mean_y_contact = df_clean.groupby('contact')['y'].mean()\n",
    "\n",
    "# Ordenando os níveis de educação pela média de promoção\n",
    "mean_y_contact = mean_y_contact.sort_values()\n",
    "\n",
    "# Plotando o gráfico de barras\n",
    "plt.figure(figsize=(7, 4))\n",
    "sns.barplot(x=mean_y_contact.index, y=mean_y_contact, palette='Set2')\n",
    "plt.title('Média de y por tipo de contato')\n",
    "plt.xlabel('tipo de contato')\n",
    "plt.ylabel('Média de y')\n",
    "plt.tight_layout()\n",
    "plt.show()"
   ]
  }
 ],
 "metadata": {
  "kernelspec": {
   "display_name": "Python 3",
   "language": "python",
   "name": "python3"
  },
  "language_info": {
   "codemirror_mode": {
    "name": "ipython",
    "version": 3
   },
   "file_extension": ".py",
   "mimetype": "text/x-python",
   "name": "python",
   "nbconvert_exporter": "python",
   "pygments_lexer": "ipython3",
   "version": "3.11.9"
  }
 },
 "nbformat": 4,
 "nbformat_minor": 2
}
